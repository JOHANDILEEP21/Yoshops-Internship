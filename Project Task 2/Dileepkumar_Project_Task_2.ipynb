{
  "nbformat": 4,
  "nbformat_minor": 0,
  "metadata": {
    "colab": {
      "provenance": []
    },
    "kernelspec": {
      "name": "python3",
      "display_name": "Python 3"
    },
    "language_info": {
      "name": "python"
    }
  },
  "cells": [
    {
      "cell_type": "markdown",
      "source": [
        "#**Task-2:**\n",
        "\n",
        "##Create EDA using Test Data file(Yoshops.com Sale Order file) :\n",
        "\n",
        "###Input Value for genrate Graph chart:\n",
        "\n",
        "Enter 1 to see the analysis of Reviews given by Customers\n",
        "\n",
        "Enter 2 to see the analysis of different payment methods used by the Customers\n",
        "\n",
        "Enter 3 to see the analysis of Top Consumer States of India\n",
        "\n",
        "Enter 4 to see the analysis of Top Consumer Cities of India\n",
        "\n",
        "Enter 5 to see the analysis of Top Selling Product Categories\n",
        "\n",
        "Enter 6 to see the analysis of Reviews for All Product Categories\n",
        "\n",
        "Enter 7 to see the analysis of Number of Orders Per Month Per Year\n",
        "\n",
        "Enter 8 to see the analysis of Reviews for Number of Orders Per Month Per Year\n",
        "\n",
        "Enter 9 to see the analysis of Number of Orders Across Parts of a Day\n",
        "\n",
        "Enter 10 to see the Full Report\n",
        "\n",
        "\n",
        "### Enter the number to see the analysis of your choice: 1\n",
        "\n",
        "\n",
        "### OutPut:Genrate analysis report in format PDF and Excel file"
      ],
      "metadata": {
        "id": "lwE23_Ho69X1"
      }
    },
    {
      "cell_type": "markdown",
      "source": [
        "# Importing all required libraries"
      ],
      "metadata": {
        "id": "IMxr-SMw0rDl"
      }
    },
    {
      "cell_type": "code",
      "source": [
        "!pip install fpdf"
      ],
      "metadata": {
        "colab": {
          "base_uri": "https://localhost:8080/"
        },
        "id": "EEEu58rMyGyc",
        "outputId": "15007c89-d748-4d60-aa89-6093cc319c68"
      },
      "execution_count": 3,
      "outputs": [
        {
          "output_type": "stream",
          "name": "stdout",
          "text": [
            "Looking in indexes: https://pypi.org/simple, https://us-python.pkg.dev/colab-wheels/public/simple/\n",
            "Collecting fpdf\n",
            "  Downloading fpdf-1.7.2.tar.gz (39 kB)\n",
            "  Preparing metadata (setup.py) ... \u001b[?25l\u001b[?25hdone\n",
            "Building wheels for collected packages: fpdf\n",
            "  Building wheel for fpdf (setup.py) ... \u001b[?25l\u001b[?25hdone\n",
            "  Created wheel for fpdf: filename=fpdf-1.7.2-py2.py3-none-any.whl size=40719 sha256=86bf18713d497a7d0606d3d0160e4427e4c2ad9a53270c5f533efe6d7d7d1957\n",
            "  Stored in directory: /root/.cache/pip/wheels/44/35/8b/86ce00cec7e4d13c5f189680ae0fa82f919bedc066c2cddae9\n",
            "Successfully built fpdf\n",
            "Installing collected packages: fpdf\n",
            "Successfully installed fpdf-1.7.2\n"
          ]
        }
      ]
    },
    {
      "cell_type": "code",
      "execution_count": 4,
      "metadata": {
        "id": "qTsB-tma63mF"
      },
      "outputs": [],
      "source": [
        "import pandas as pd\n",
        "import matplotlib.pyplot as plt\n",
        "import seaborn as sns\n",
        "import numpy as np\n",
        "import plotly.express as px\n",
        "from fpdf import FPDF"
      ]
    },
    {
      "cell_type": "markdown",
      "source": [
        "# Importing the Dataset"
      ],
      "metadata": {
        "id": "51qdm2jK0w7R"
      }
    },
    {
      "cell_type": "code",
      "source": [
        "review = pd.read_csv('/content/drive/MyDrive/YoShops Internship/Project Task 2/review_dataset.csv')\n",
        "review"
      ],
      "metadata": {
        "colab": {
          "base_uri": "https://localhost:8080/",
          "height": 468
        },
        "id": "ezo4IhkQ0Qef",
        "outputId": "ea987087-a004-46a8-8c97-41326fecbc8e"
      },
      "execution_count": 10,
      "outputs": [
        {
          "output_type": "execute_result",
          "data": {
            "text/plain": [
              "                                           product_name  \\\n",
              "0     Sony PlayStation PS2 Gaming Console 150 GB Har...   \n",
              "1              Vmax HX 750 Quadcopter Drone (No Camera)   \n",
              "2     Yoshops VR BOX Virtual Reality Glasses Headset...   \n",
              "3      Sony PlayStation PS3 Console Slim 320 GB (Black)   \n",
              "4                                    Barbie Doll (pink)   \n",
              "...                                                 ...   \n",
              "1856  Hammer Pulse Oximeter Unisex Smartwatch with B...   \n",
              "1857  Hammer Sting 2.0 Wireless Bluetooth Neckband E...   \n",
              "1858  BBA Online Class Live Tuition Training Program...   \n",
              "1859  B.TECH Online Class Live Tuition Training Prog...   \n",
              "1860  YouTuber Deepak Kumar YouTube Channel: Technic...   \n",
              "\n",
              "                                            product_url      category  \\\n",
              "0     https://yoshops.com/products/sony-playstation-...  Toys & Games   \n",
              "1     https://yoshops.com/products/hx-750-remote-con...  Toys & Games   \n",
              "2     https://yoshops.com/products/yoshops-vr-box-vi...  Toys & Games   \n",
              "3     https://yoshops.com/products/sony-playstation-...  Toys & Games   \n",
              "4              https://yoshops.com/products/barbie-doll  Toys & Games   \n",
              "...                                                 ...           ...   \n",
              "1856  https://yoshops.com/products/hammer-pulse-oxim...        Mumbai   \n",
              "1857  https://yoshops.com/products/hammer-sting-2-0-...        Mumbai   \n",
              "1858  https://yoshops.com/products/bba-online-class-...        Mumbai   \n",
              "1859  https://yoshops.com/products/b-tech-online-cla...        Mumbai   \n",
              "1860  https://yoshops.com/products/youtuber-deepak-k...        Mumbai   \n",
              "\n",
              "       status            stars  \n",
              "0     Reviewd  5.0 star rating  \n",
              "1     Reviewd  5.0 star rating  \n",
              "2     Reviewd  5.0 star rating  \n",
              "3     Reviewd  4.9 star rating  \n",
              "4     Reviewd  4.9 star rating  \n",
              "...       ...              ...  \n",
              "1856      NaN              NaN  \n",
              "1857      NaN              NaN  \n",
              "1858      NaN              NaN  \n",
              "1859  Reviewd  5.0 star rating  \n",
              "1860      NaN              NaN  \n",
              "\n",
              "[1861 rows x 5 columns]"
            ],
            "text/html": [
              "\n",
              "  <div id=\"df-41cd6fcf-6733-4640-9611-b56af576c32c\">\n",
              "    <div class=\"colab-df-container\">\n",
              "      <div>\n",
              "<style scoped>\n",
              "    .dataframe tbody tr th:only-of-type {\n",
              "        vertical-align: middle;\n",
              "    }\n",
              "\n",
              "    .dataframe tbody tr th {\n",
              "        vertical-align: top;\n",
              "    }\n",
              "\n",
              "    .dataframe thead th {\n",
              "        text-align: right;\n",
              "    }\n",
              "</style>\n",
              "<table border=\"1\" class=\"dataframe\">\n",
              "  <thead>\n",
              "    <tr style=\"text-align: right;\">\n",
              "      <th></th>\n",
              "      <th>product_name</th>\n",
              "      <th>product_url</th>\n",
              "      <th>category</th>\n",
              "      <th>status</th>\n",
              "      <th>stars</th>\n",
              "    </tr>\n",
              "  </thead>\n",
              "  <tbody>\n",
              "    <tr>\n",
              "      <th>0</th>\n",
              "      <td>Sony PlayStation PS2 Gaming Console 150 GB Har...</td>\n",
              "      <td>https://yoshops.com/products/sony-playstation-...</td>\n",
              "      <td>Toys &amp; Games</td>\n",
              "      <td>Reviewd</td>\n",
              "      <td>5.0 star rating</td>\n",
              "    </tr>\n",
              "    <tr>\n",
              "      <th>1</th>\n",
              "      <td>Vmax HX 750 Quadcopter Drone (No Camera)</td>\n",
              "      <td>https://yoshops.com/products/hx-750-remote-con...</td>\n",
              "      <td>Toys &amp; Games</td>\n",
              "      <td>Reviewd</td>\n",
              "      <td>5.0 star rating</td>\n",
              "    </tr>\n",
              "    <tr>\n",
              "      <th>2</th>\n",
              "      <td>Yoshops VR BOX Virtual Reality Glasses Headset...</td>\n",
              "      <td>https://yoshops.com/products/yoshops-vr-box-vi...</td>\n",
              "      <td>Toys &amp; Games</td>\n",
              "      <td>Reviewd</td>\n",
              "      <td>5.0 star rating</td>\n",
              "    </tr>\n",
              "    <tr>\n",
              "      <th>3</th>\n",
              "      <td>Sony PlayStation PS3 Console Slim 320 GB (Black)</td>\n",
              "      <td>https://yoshops.com/products/sony-playstation-...</td>\n",
              "      <td>Toys &amp; Games</td>\n",
              "      <td>Reviewd</td>\n",
              "      <td>4.9 star rating</td>\n",
              "    </tr>\n",
              "    <tr>\n",
              "      <th>4</th>\n",
              "      <td>Barbie Doll (pink)</td>\n",
              "      <td>https://yoshops.com/products/barbie-doll</td>\n",
              "      <td>Toys &amp; Games</td>\n",
              "      <td>Reviewd</td>\n",
              "      <td>4.9 star rating</td>\n",
              "    </tr>\n",
              "    <tr>\n",
              "      <th>...</th>\n",
              "      <td>...</td>\n",
              "      <td>...</td>\n",
              "      <td>...</td>\n",
              "      <td>...</td>\n",
              "      <td>...</td>\n",
              "    </tr>\n",
              "    <tr>\n",
              "      <th>1856</th>\n",
              "      <td>Hammer Pulse Oximeter Unisex Smartwatch with B...</td>\n",
              "      <td>https://yoshops.com/products/hammer-pulse-oxim...</td>\n",
              "      <td>Mumbai</td>\n",
              "      <td>NaN</td>\n",
              "      <td>NaN</td>\n",
              "    </tr>\n",
              "    <tr>\n",
              "      <th>1857</th>\n",
              "      <td>Hammer Sting 2.0 Wireless Bluetooth Neckband E...</td>\n",
              "      <td>https://yoshops.com/products/hammer-sting-2-0-...</td>\n",
              "      <td>Mumbai</td>\n",
              "      <td>NaN</td>\n",
              "      <td>NaN</td>\n",
              "    </tr>\n",
              "    <tr>\n",
              "      <th>1858</th>\n",
              "      <td>BBA Online Class Live Tuition Training Program...</td>\n",
              "      <td>https://yoshops.com/products/bba-online-class-...</td>\n",
              "      <td>Mumbai</td>\n",
              "      <td>NaN</td>\n",
              "      <td>NaN</td>\n",
              "    </tr>\n",
              "    <tr>\n",
              "      <th>1859</th>\n",
              "      <td>B.TECH Online Class Live Tuition Training Prog...</td>\n",
              "      <td>https://yoshops.com/products/b-tech-online-cla...</td>\n",
              "      <td>Mumbai</td>\n",
              "      <td>Reviewd</td>\n",
              "      <td>5.0 star rating</td>\n",
              "    </tr>\n",
              "    <tr>\n",
              "      <th>1860</th>\n",
              "      <td>YouTuber Deepak Kumar YouTube Channel: Technic...</td>\n",
              "      <td>https://yoshops.com/products/youtuber-deepak-k...</td>\n",
              "      <td>Mumbai</td>\n",
              "      <td>NaN</td>\n",
              "      <td>NaN</td>\n",
              "    </tr>\n",
              "  </tbody>\n",
              "</table>\n",
              "<p>1861 rows × 5 columns</p>\n",
              "</div>\n",
              "      <button class=\"colab-df-convert\" onclick=\"convertToInteractive('df-41cd6fcf-6733-4640-9611-b56af576c32c')\"\n",
              "              title=\"Convert this dataframe to an interactive table.\"\n",
              "              style=\"display:none;\">\n",
              "        \n",
              "  <svg xmlns=\"http://www.w3.org/2000/svg\" height=\"24px\"viewBox=\"0 0 24 24\"\n",
              "       width=\"24px\">\n",
              "    <path d=\"M0 0h24v24H0V0z\" fill=\"none\"/>\n",
              "    <path d=\"M18.56 5.44l.94 2.06.94-2.06 2.06-.94-2.06-.94-.94-2.06-.94 2.06-2.06.94zm-11 1L8.5 8.5l.94-2.06 2.06-.94-2.06-.94L8.5 2.5l-.94 2.06-2.06.94zm10 10l.94 2.06.94-2.06 2.06-.94-2.06-.94-.94-2.06-.94 2.06-2.06.94z\"/><path d=\"M17.41 7.96l-1.37-1.37c-.4-.4-.92-.59-1.43-.59-.52 0-1.04.2-1.43.59L10.3 9.45l-7.72 7.72c-.78.78-.78 2.05 0 2.83L4 21.41c.39.39.9.59 1.41.59.51 0 1.02-.2 1.41-.59l7.78-7.78 2.81-2.81c.8-.78.8-2.07 0-2.86zM5.41 20L4 18.59l7.72-7.72 1.47 1.35L5.41 20z\"/>\n",
              "  </svg>\n",
              "      </button>\n",
              "      \n",
              "  <style>\n",
              "    .colab-df-container {\n",
              "      display:flex;\n",
              "      flex-wrap:wrap;\n",
              "      gap: 12px;\n",
              "    }\n",
              "\n",
              "    .colab-df-convert {\n",
              "      background-color: #E8F0FE;\n",
              "      border: none;\n",
              "      border-radius: 50%;\n",
              "      cursor: pointer;\n",
              "      display: none;\n",
              "      fill: #1967D2;\n",
              "      height: 32px;\n",
              "      padding: 0 0 0 0;\n",
              "      width: 32px;\n",
              "    }\n",
              "\n",
              "    .colab-df-convert:hover {\n",
              "      background-color: #E2EBFA;\n",
              "      box-shadow: 0px 1px 2px rgba(60, 64, 67, 0.3), 0px 1px 3px 1px rgba(60, 64, 67, 0.15);\n",
              "      fill: #174EA6;\n",
              "    }\n",
              "\n",
              "    [theme=dark] .colab-df-convert {\n",
              "      background-color: #3B4455;\n",
              "      fill: #D2E3FC;\n",
              "    }\n",
              "\n",
              "    [theme=dark] .colab-df-convert:hover {\n",
              "      background-color: #434B5C;\n",
              "      box-shadow: 0px 1px 3px 1px rgba(0, 0, 0, 0.15);\n",
              "      filter: drop-shadow(0px 1px 2px rgba(0, 0, 0, 0.3));\n",
              "      fill: #FFFFFF;\n",
              "    }\n",
              "  </style>\n",
              "\n",
              "      <script>\n",
              "        const buttonEl =\n",
              "          document.querySelector('#df-41cd6fcf-6733-4640-9611-b56af576c32c button.colab-df-convert');\n",
              "        buttonEl.style.display =\n",
              "          google.colab.kernel.accessAllowed ? 'block' : 'none';\n",
              "\n",
              "        async function convertToInteractive(key) {\n",
              "          const element = document.querySelector('#df-41cd6fcf-6733-4640-9611-b56af576c32c');\n",
              "          const dataTable =\n",
              "            await google.colab.kernel.invokeFunction('convertToInteractive',\n",
              "                                                     [key], {});\n",
              "          if (!dataTable) return;\n",
              "\n",
              "          const docLinkHtml = 'Like what you see? Visit the ' +\n",
              "            '<a target=\"_blank\" href=https://colab.research.google.com/notebooks/data_table.ipynb>data table notebook</a>'\n",
              "            + ' to learn more about interactive tables.';\n",
              "          element.innerHTML = '';\n",
              "          dataTable['output_type'] = 'display_data';\n",
              "          await google.colab.output.renderOutput(dataTable, element);\n",
              "          const docLink = document.createElement('div');\n",
              "          docLink.innerHTML = docLinkHtml;\n",
              "          element.appendChild(docLink);\n",
              "        }\n",
              "      </script>\n",
              "    </div>\n",
              "  </div>\n",
              "  "
            ]
          },
          "metadata": {},
          "execution_count": 10
        }
      ]
    },
    {
      "cell_type": "code",
      "source": [
        "print(review.isnull().sum())\n",
        "print((review.isnull().sum()/len(review))*100)\n",
        "review = review.drop_duplicates()\n",
        "print(review.shape)\n",
        "print(review.dtypes)\n",
        "print(review.nunique())\n",
        "print(review.nunique().value_counts())\n",
        "print(review['status'].value_counts())\n",
        "print(review['status'].nunique())\n",
        "review = review.drop(['product_url'], axis=1)\n",
        "print(review.info())\n",
        "print(review['stars'].values)\n",
        "print(review['stars'].isnull().sum())\n",
        "review['stars'] = review.stars.str.split().str.get(0)\n",
        "review['stars'] = review.stars.astype('float64')\n",
        "review.describe().T\n",
        "# cat_cols = review.select_dtypes(include=['object']).columns\n",
        "# print(cat_cols)\n",
        "### If we drop the null value columns and rows there will be a huge data loss. So, we've to impute the null values.\n",
        "# review.dropna(inplace=True)\n",
        "# review\n",
        "review['status'].fillna('No review', inplace= True)\n",
        "review['stars'].fillna('0', inplace=True)\n",
        "print(review.shape)\n",
        "print(review.isnull().sum())\n",
        "print(np.array(review.status.value_counts()))\n",
        "labels=list(review.stars.value_counts().index)\n",
        "print(labels)"
      ],
      "metadata": {
        "id": "rPi6ZaXw0l60",
        "colab": {
          "base_uri": "https://localhost:8080/"
        },
        "outputId": "5c7d8b02-5e98-4fcf-9df4-502c157c22b7"
      },
      "execution_count": 11,
      "outputs": [
        {
          "output_type": "stream",
          "name": "stdout",
          "text": [
            "product_name       0\n",
            "product_url        0\n",
            "category           0\n",
            "status          1255\n",
            "stars           1255\n",
            "dtype: int64\n",
            "product_name     0.000000\n",
            "product_url      0.000000\n",
            "category         0.000000\n",
            "status          67.436862\n",
            "stars           67.436862\n",
            "dtype: float64\n",
            "(1861, 5)\n",
            "product_name    object\n",
            "product_url     object\n",
            "category        object\n",
            "status          object\n",
            "stars           object\n",
            "dtype: object\n",
            "product_name    523\n",
            "product_url     524\n",
            "category         62\n",
            "status            1\n",
            "stars            12\n",
            "dtype: int64\n",
            "523    1\n",
            "524    1\n",
            "62     1\n",
            "1      1\n",
            "12     1\n",
            "dtype: int64\n",
            "Reviewd    606\n",
            "Name: status, dtype: int64\n",
            "1\n",
            "<class 'pandas.core.frame.DataFrame'>\n",
            "Int64Index: 1861 entries, 0 to 1860\n",
            "Data columns (total 4 columns):\n",
            " #   Column        Non-Null Count  Dtype \n",
            "---  ------        --------------  ----- \n",
            " 0   product_name  1861 non-null   object\n",
            " 1   category      1861 non-null   object\n",
            " 2   status        606 non-null    object\n",
            " 3   stars         606 non-null    object\n",
            "dtypes: object(4)\n",
            "memory usage: 72.7+ KB\n",
            "None\n",
            "['5.0 star rating' '5.0 star rating' '5.0 star rating' ... nan\n",
            " '5.0 star rating' nan]\n",
            "1255\n",
            "(1861, 4)\n",
            "product_name    0\n",
            "category        0\n",
            "status          0\n",
            "stars           0\n",
            "dtype: int64\n",
            "[1255  606]\n",
            "['0', 5.0, 4.9, 4.5, 4.8, 4.7, 4.6, 4.3, 4.2, 3.0, 4.0, 2.3, 3.3]\n"
          ]
        }
      ]
    },
    {
      "cell_type": "code",
      "source": [
        "def enter1():\n",
        "  hist_plot = review.groupby('status')['stars'].mean().plot(kind='hist', title='The analysis of Reviews given by Customers (Using Histogram plot)', xlabel='status', ylabel='stars',figsize=(10,6), color='black')\n",
        "  fig = plt.figure(figsize=(6,6))\n",
        "  ax = plt.subplot(111)\n",
        "  # fig, ax = plt.subplots()\n",
        "  ax.pie(np.array(review.category.value_counts().head(2)),labels=list(review.stars.value_counts().head(2).index),autopct='%1.1f%%',explode=[0.2, 0])\n",
        "  #ax.legend(list(review.category.value_counts().head(10).index))\n",
        "  ax.set_title(\"The analysis of Reviews given by Customers (Using Pie plot)\")\n",
        "  plt.savefig('1.1.pdf')\n",
        "  plt.show()"
      ],
      "metadata": {
        "id": "Wj7wdnJz7Ji1"
      },
      "execution_count": 57,
      "outputs": []
    },
    {
      "cell_type": "code",
      "source": [
        "payments = pd.read_csv('/content/drive/MyDrive/YoShops Internship/Project Task 2/orders_2016-2020_Dataset.csv')\n",
        "payments.info()\n",
        "payments.isnull().sum()\n",
        "payments['Payment Method'] = payments['Payment Method'].str.split().str.get(0)\n",
        "payments['Payment Method'].fillna('Not mentioned', inplace=True)\n",
        "payments['Payment Method'].value_counts()\n",
        "b = payments.groupby(['Payment Status', 'Coupon Code', 'Coupon Code Name'])['Payment Method'].count()"
      ],
      "metadata": {
        "id": "1YmE6TSnVm2S",
        "colab": {
          "base_uri": "https://localhost:8080/"
        },
        "outputId": "2f37eea7-d5ca-4a8d-e358-f51c8db20e76"
      },
      "execution_count": 13,
      "outputs": [
        {
          "output_type": "stream",
          "name": "stdout",
          "text": [
            "<class 'pandas.core.frame.DataFrame'>\n",
            "RangeIndex: 2297 entries, 0 to 2296\n",
            "Data columns (total 41 columns):\n",
            " #   Column                           Non-Null Count  Dtype  \n",
            "---  ------                           --------------  -----  \n",
            " 0   Order #                          2297 non-null   object \n",
            " 1   Order Date and Time Stamp        2297 non-null   object \n",
            " 2   Fulfillment Status               2297 non-null   object \n",
            " 3   Payment Status                   2297 non-null   object \n",
            " 4   Payment Date and Time Stamp      240 non-null    object \n",
            " 5   Fulfillment Date and Time Stamp  229 non-null    object \n",
            " 6   Currency                         2297 non-null   object \n",
            " 7   Subtotal                         2297 non-null   object \n",
            " 8   Shipping Method                  2297 non-null   object \n",
            " 9   Shipping Cost                    2297 non-null   object \n",
            " 10  Tax Method                       1 non-null      object \n",
            " 11  Taxes                            2297 non-null   object \n",
            " 12  Total                            2297 non-null   object \n",
            " 13  Coupon Code                      157 non-null    object \n",
            " 14  Coupon Code Name                 157 non-null    object \n",
            " 15  Discount                         2297 non-null   object \n",
            " 16  Billing Name                     330 non-null    object \n",
            " 17  Billing Country                  330 non-null    object \n",
            " 18  Billing Street Address           330 non-null    object \n",
            " 19  Billing Street Address 2         197 non-null    object \n",
            " 20  Billing City                     330 non-null    object \n",
            " 21  Billing State                    322 non-null    object \n",
            " 22  Billing Zip                      330 non-null    object \n",
            " 23  Shipping Name                    2297 non-null   object \n",
            " 24  Shipping Country                 2297 non-null   object \n",
            " 25  Shipping Street Address          2279 non-null   object \n",
            " 26  Shipping Street Address 2        1526 non-null   object \n",
            " 27  Shipping City                    2279 non-null   object \n",
            " 28  Shipping State                   2276 non-null   object \n",
            " 29  Shipping Zip                     2276 non-null   object \n",
            " 30  Gift Cards                       0 non-null      float64\n",
            " 31  Payment Method                   240 non-null    object \n",
            " 32  Tracking #                       83 non-null     object \n",
            " 33  Special Instructions             0 non-null      float64\n",
            " 34  LineItem Name                    2297 non-null   object \n",
            " 35  LineItem SKU                     2208 non-null   object \n",
            " 36  LineItem Options                 169 non-null    object \n",
            " 37  LineItem Add-ons                 91 non-null     object \n",
            " 38  LineItem Qty                     2297 non-null   int64  \n",
            " 39  LineItem Sale Price              2297 non-null   object \n",
            " 40  LineItem Type                    2297 non-null   object \n",
            "dtypes: float64(2), int64(1), object(38)\n",
            "memory usage: 735.9+ KB\n"
          ]
        }
      ]
    },
    {
      "cell_type": "code",
      "source": [
        "def enter2():\n",
        "  count = payments.groupby('Payment Method').count()\n",
        "  #count.rename(columns={'Crop':\"Count\"},inplace=True)\n",
        "  count = count.reset_index()\n",
        "  sns.set(rc={\"figure.figsize\" :(15,10)})\n",
        "  ax = sns.barplot(data=count,x='Payment Method',y='Payment Status')\n",
        "  ax.tick_params(axis='x',rotation=90)\n",
        "  count = payments.groupby('Payment Method').count()\n",
        "  count = count.reset_index()\n",
        "  sns.set(rc={\"figure.figsize\" :(15,10)})\n",
        "  fig = plt.figure(figsize=(6,6))\n",
        "  ax = plt.subplot(111)\n",
        "  ax.pie(np.array(payments['Payment Method'].value_counts().head(3)),labels=list(payments['Payment Method'].value_counts().head(3).index),autopct='%1.1f%%',explode=[0.2, 0,0])\n",
        "  ax.figure.savefig('2.1.pdf')\n",
        "  ax.set_title('The analysis of different payment methods used by the Customers Using Plotting')\n",
        "  plt.show()\n",
        "  count = payments.groupby('Payment Method')['Coupon Code'].count()\n",
        "  #count.rename(columns={'Crop':\"Count\"},inplace=True)\n",
        "  count = count.reset_index()\n",
        "  sns.set(rc={\"figure.figsize\" :(15,10)})\n",
        "  ax = sns.barplot(data=count,x='Payment Method',y='Coupon Code')\n",
        "  ax.tick_params(axis='x',rotation=90)\n",
        "  plt.legend()\n",
        "  plt.savefig(\"2.2.pdf\", format=\"pdf\", bbox_inches=\"tight\")\n",
        "  plt.show()"
      ],
      "metadata": {
        "id": "uI9FGdnD7XzV"
      },
      "execution_count": 73,
      "outputs": []
    },
    {
      "cell_type": "markdown",
      "source": [
        "### Enter 3, 4 To see the analysis of Top Consumer States and Cities of India"
      ],
      "metadata": {
        "id": "FN81a4H2aIEF"
      }
    },
    {
      "cell_type": "code",
      "source": [
        "#reading the dataset\n",
        "states = pd.read_csv('/content/drive/MyDrive/YoShops Internship/Project Task 2/orders_2016-2020_Dataset.csv')\n",
        "\n",
        "# dropping unwanted columns\n",
        "states = states.drop(['Fulfillment Status','Subtotal','Payment Date and Time Stamp','Fulfillment Date and Time Stamp','Currency','Shipping Method','Shipping Cost','Tax Method','Taxes','Coupon Code','Coupon Code Name','Billing Name','Billing Street Address','Billing Street Address 2','Billing Zip','Shipping Name','Shipping Street Address','Shipping Street Address 2','Shipping Zip','Gift Cards','Tracking #','Special Instructions','LineItem SKU','LineItem Options','LineItem Add-ons','LineItem Type'],axis=1)\n",
        "\n",
        "# filling nan values in necessary columns with others\n",
        "states = states.fillna({'Payment Method':'Others','Billing Country':'Others','Billing City':'Others','Billing State':'Others','Shipping Country':'Others','Shipping City':'Others','Shipping State':'Others'},)\n",
        "\n",
        "#dropping null values\n",
        "states.dropna(inplace=True)\n",
        "\n",
        "#converting the type of values in inOrder Date and Time Stamp\n",
        "states['Order Date and Time Stamp'] = pd.to_datetime(states['Order Date and Time Stamp'])\n",
        "\n",
        "#extracting year,month,dayand hour from Order Date and Time Stamp column\n",
        "states['year'] = states['Order Date and Time Stamp'].dt.year\n",
        "states['month'] = states['Order Date and Time Stamp'].dt.month\n",
        "states['day'] = states['Order Date and Time Stamp'].dt.day\n",
        "states['hour'] = states['Order Date and Time Stamp'].dt.hour\n",
        "\n",
        "#dropping Order Date and Time Stamp column\n",
        "states = states.drop(['Order Date and Time Stamp'],axis=1)\n",
        "\n",
        "india = states[states['Shipping Country'] == 'IND']\n",
        "india_count = india['Shipping State'].value_counts()\n",
        "top_states = india['Shipping State'].value_counts().nlargest(10)"
      ],
      "metadata": {
        "id": "j_XXT-tUaLQw"
      },
      "execution_count": 15,
      "outputs": []
    },
    {
      "cell_type": "code",
      "source": [
        "def enter3():\n",
        "  ic = india_count.plot(kind='bar',xlabel='States in India',ylabel='Count of the states in india',figsize=(15,8), title='3.To see the analysis of Top Consumer States of India')\n",
        "  plt.savefig('3.1.pdf')\n",
        "  #ax.figure.savefig('file.png')\n",
        "  #top_states.plot(kind='bar',figsize=(15,8), title='3.To see the analysis of Top Consumer States of India')"
      ],
      "metadata": {
        "id": "qanT9bIm7knV"
      },
      "execution_count": 71,
      "outputs": []
    },
    {
      "cell_type": "code",
      "source": [
        "india_cities = states[states['Shipping Country'] == 'IND']\n",
        "india_cities = india_cities['Shipping City'].value_counts()\n",
        "top_cities = india_cities.nlargest(10)"
      ],
      "metadata": {
        "id": "H4PHAQ-ZnfoD"
      },
      "execution_count": 17,
      "outputs": []
    },
    {
      "cell_type": "code",
      "source": [
        "def enter4():\n",
        "  #india_cities.plot(kind='bar',xlabel='Cities in India',ylabel='Count of the cities in india',figsize=(15,8), title='The analysis of Top Consumer Cities of India')\n",
        "  top_cities.plot(kind='bar',figsize=(15,8), title='3.To see the analysis of Top 10 Consumer Cities in india')\n",
        "  plt.savefig('4.1.pdf')"
      ],
      "metadata": {
        "id": "iqQctoUO7npf"
      },
      "execution_count": 76,
      "outputs": []
    },
    {
      "cell_type": "markdown",
      "source": [
        "### Enter 5 to see the analysis of Top Selling Product Categories"
      ],
      "metadata": {
        "id": "s4iYtqwi7Fin"
      }
    },
    {
      "cell_type": "code",
      "source": [
        "prd_cat = review.copy()"
      ],
      "metadata": {
        "id": "nKD_Be4Q7MGm"
      },
      "execution_count": 19,
      "outputs": []
    },
    {
      "cell_type": "code",
      "source": [
        "prd_cat = prd_cat.groupby('category')['product_name'].count().sort_values(ascending=False).to_frame()"
      ],
      "metadata": {
        "id": "_SUSeaa2IhQQ"
      },
      "execution_count": 20,
      "outputs": []
    },
    {
      "cell_type": "code",
      "source": [
        "prd_cat1 = prd_cat.groupby('category')['product_name'].count().sort_values(ascending=False).to_frame()"
      ],
      "metadata": {
        "id": "h7KT-18o7oxe"
      },
      "execution_count": 21,
      "outputs": []
    },
    {
      "cell_type": "code",
      "source": [
        "def enter5():\n",
        "  plt.figure(figsize=(16,10))\n",
        "  ax=sns.countplot(data = prd_cat, x='product_name')\n",
        "  ax.figure.savefig('5.1.pdf')\n",
        "  plt.xticks(rotation=90)\n",
        "  pc = prd_cat1.plot(kind='bar',figsize=(15,8), title='5 to see the analysis of Top Selling Product Categories')\n",
        "  plt.savefig('5.2.pdf')\n",
        "  #pc1 = prd_cat1.nlargest(10).plot(kind='bar',figsize=(15,8), title='5 to see the analysis of Top Selling Product Categories')"
      ],
      "metadata": {
        "id": "L4w4zD9P70T3"
      },
      "execution_count": 81,
      "outputs": []
    },
    {
      "cell_type": "code",
      "source": [
        "enter5()"
      ],
      "metadata": {
        "colab": {
          "base_uri": "https://localhost:8080/",
          "height": 1000
        },
        "id": "j2BDdtsR7gwW",
        "outputId": "8ec837e6-ab79-45f8-e6c7-5b54b974e47c"
      },
      "execution_count": 82,
      "outputs": [
        {
          "output_type": "display_data",
          "data": {
            "text/plain": [
              "<Figure size 1152x720 with 1 Axes>"
            ],
            "image/png": "[encoded data removed]"
          },
          "metadata": {}
        },
        {
          "output_type": "display_data",
          "data": {
            "text/plain": [
              "<Figure size 1080x576 with 1 Axes>"
            ],
            "image/png": "[encoded data removed]"
          },
          "metadata": {}
        }
      ]
    },
    {
      "cell_type": "markdown",
      "source": [
        "### Enter 6 to see the analysis of Reviews for All Product Categories"
      ],
      "metadata": {
        "id": "mQl4_wacUtPD"
      }
    },
    {
      "cell_type": "code",
      "source": [
        "prod_review = review.groupby(['category','stars'])['product_name']\n",
        "prod_review"
      ],
      "metadata": {
        "colab": {
          "base_uri": "https://localhost:8080/"
        },
        "id": "QmfF4MWFVzL5",
        "outputId": "ca51eec6-84f8-457c-e70a-7e3eb8c8f469"
      },
      "execution_count": 23,
      "outputs": [
        {
          "output_type": "execute_result",
          "data": {
            "text/plain": [
              "<pandas.core.groupby.generic.SeriesGroupBy object at 0x7fcf2e3ffac0>"
            ]
          },
          "metadata": {},
          "execution_count": 23
        }
      ]
    },
    {
      "cell_type": "code",
      "source": [
        "prod_review = review.groupby(['category','stars'])['product_name'].count()\n",
        "prod_review.to_csv('category_stars.csv')\n",
        "prod_review=pd.read_csv('category_stars.csv')\n",
        "prod_review=pd.pivot_table(prod_review,values=None,index=['category'],columns=['stars'],fill_value=0,aggfunc=np.sum)"
      ],
      "metadata": {
        "id": "lGCXm0hIUsYZ"
      },
      "execution_count": 24,
      "outputs": []
    },
    {
      "cell_type": "code",
      "source": [
        "# extracting orders that got 5 stars\n",
        "fivestar_review=review[review['stars']==5]\n",
        "\n",
        "star_review = fivestar_review.groupby(['category','stars'])['product_name'].count()\n",
        "star_review.to_csv('category_stars.csv')\n",
        "\n",
        "star_review = pd.read_csv('category_stars.csv')\n",
        "star_review = pd.pivot_table(star_review,values=None,index=['category'],columns=['stars'],fill_value=0,aggfunc=np.sum)\n",
        "\n",
        "cat_review = review.groupby(['category','status'])['product_name'].count()\n",
        "cat_review.to_csv('category_status.csv')\n",
        "\n",
        "cat_review = pd.read_csv('category_status.csv')\n",
        "cat_review = pd.pivot_table(cat_review,values=None,index=['category'],columns=['status'],fill_value=0,aggfunc=np.sum)"
      ],
      "metadata": {
        "id": "O6VRNTyNX_Vc"
      },
      "execution_count": 25,
      "outputs": []
    },
    {
      "cell_type": "code",
      "source": [
        "def enter6():\n",
        "  star_review.plot(kind='bar',figsize=(15,8), title='The analysis of Product Reviews with stars(Using Bar plot)')\n",
        "  plt.savefig('6.1.pdf')\n",
        "  cat_review.plot(kind='bar',figsize=(15,8), title='The analysis of Product Reviews with category(Using Bar plot)')\n",
        "  plt.savefig('6.2.pdf')"
      ],
      "metadata": {
        "id": "vK9skEUk7_SZ"
      },
      "execution_count": 83,
      "outputs": []
    },
    {
      "cell_type": "markdown",
      "source": [
        "### 7 to see the analysis of Number of Orders Per Month Per Year"
      ],
      "metadata": {
        "id": "9ToHUO_UArQm"
      }
    },
    {
      "cell_type": "code",
      "source": [
        "states = states.rename({'Order #':'Orders'}, axis=True)"
      ],
      "metadata": {
        "id": "Xj1uFIQbAzsl"
      },
      "execution_count": 27,
      "outputs": []
    },
    {
      "cell_type": "code",
      "source": [
        "# nom = states.groupby('month')['Orders'].count()\n",
        "# noy = states.groupby('year')['Orders'].count()\n",
        "# #nom.plot(kind='bar',figsize=(15,8), xlabel='Months', ylabel='Orders', title='5 to see the analysis of Top Selling Product Categories')\n",
        "# noy.nlargest(12).plot(kind='bar',figsize=(10,6), title='7 to see the analysis of Number of Orders Per Month Per Year')"
      ],
      "metadata": {
        "id": "QsL1BqgiA6jz"
      },
      "execution_count": 28,
      "outputs": []
    },
    {
      "cell_type": "code",
      "source": [
        "def enter7():\n",
        "  # nom.plot(kind='bar',figsize=(10,6), title='7 to see the analysis of Number of Orders Per Month Per Year')\n",
        "  # noy.plot(kind='hist',figsize=(10,6), title='7 to see the analysis of Number of Orders Per Month Per Year')\n",
        "  plt.figure(figsize=(16,10))\n",
        "  plt.title('The analysis of Number of Orders Per Month Per Year')\n",
        "  ax=sns.countplot(data = states, x='month')\n",
        "  ax.figure.savefig('7.1.pdf')\n",
        "  plt.xticks(rotation=90)\n",
        "  plt.figure(figsize=(16,10))\n",
        "  ax=sns.countplot(data = states, x='year')\n",
        "  plt.xticks(rotation=90)\n",
        "  plt.savefig('7.2.pdf')"
      ],
      "metadata": {
        "id": "wSHaA8Wa8Ich"
      },
      "execution_count": 84,
      "outputs": []
    },
    {
      "cell_type": "markdown",
      "source": [
        "## 8 to see the analysis of Reviews for Number of Orders Per Month Per Year"
      ],
      "metadata": {
        "id": "R-oHhBOGMWLd"
      }
    },
    {
      "cell_type": "code",
      "source": [
        "states.rename({'LineItem Name':'product_name'},axis=1, inplace=True)"
      ],
      "metadata": {
        "id": "dYgUAonHzmc9"
      },
      "execution_count": 30,
      "outputs": []
    },
    {
      "cell_type": "code",
      "source": [
        "aaa = states.merge(review, on='product_name', how='left')"
      ],
      "metadata": {
        "id": "fjJHXzsHz9Uu"
      },
      "execution_count": 31,
      "outputs": []
    },
    {
      "cell_type": "code",
      "source": [
        "aaa['status'].fillna('No review', inplace=True)"
      ],
      "metadata": {
        "id": "lArBs1ZD2NJU"
      },
      "execution_count": 32,
      "outputs": []
    },
    {
      "cell_type": "code",
      "source": [
        "def enter8():\n",
        "  aaa[['status','year']].value_counts().plot(kind='bar', title='The analysis of Number of Orders Per Month Per Year')\n",
        "  plt.savefig('8.1.pdf')"
      ],
      "metadata": {
        "id": "Fhij2loxMym7"
      },
      "execution_count": 85,
      "outputs": []
    },
    {
      "cell_type": "markdown",
      "source": [
        "### 9 to see the analysis of Number of Orders Across Parts of a Day"
      ],
      "metadata": {
        "id": "BrQis6MIzebT"
      }
    },
    {
      "cell_type": "code",
      "source": [
        "ab = aaa['hour'].value_counts()"
      ],
      "metadata": {
        "id": "sfwwII2i2MvB"
      },
      "execution_count": 34,
      "outputs": []
    },
    {
      "cell_type": "code",
      "source": [
        "part_of_day = aaa['hour']\n",
        "aaa['part of day'] = part_of_day"
      ],
      "metadata": {
        "id": "ki-7PSjI2Mjv"
      },
      "execution_count": 35,
      "outputs": []
    },
    {
      "cell_type": "code",
      "source": [
        "def hrs(value):\n",
        "  if(5<value<12):\n",
        "      return('Morning')\n",
        "  elif(12<=value<17):\n",
        "      return('AfterNoon')\n",
        "  elif(17<=value<21):\n",
        "      return('Evening')\n",
        "  else:\n",
        "      return('Night')\n",
        "aaa['part of day'] = aaa['part of day'].apply(hrs)"
      ],
      "metadata": {
        "id": "foGI9uOP5jzO"
      },
      "execution_count": 36,
      "outputs": []
    },
    {
      "cell_type": "code",
      "source": [
        "def enter9():\n",
        "  pod = aaa['part of day'].value_counts().plot(kind='bar', title='The analysis of Number of Orders Across Parts of a Day')\n",
        "  plt.savefig('9.1.pdf')\n",
        "  fig = px.bar(pod, title=\"Order MonthWise Analysis\")"
      ],
      "metadata": {
        "id": "TR05BA775jNx"
      },
      "execution_count": 86,
      "outputs": []
    },
    {
      "cell_type": "code",
      "source": [
        "prob_statement = '''Enter 1 to see the analysis of Reviews given by Customers\n",
        "\n",
        "Enter 2 to see the analysis of different payment methods used by the Customers\n",
        "\n",
        "Enter 3 to see the analysis of Top Consumer States of India\n",
        "\n",
        "Enter 4 to see the analysis of Top Consumer Cities of India\n",
        "\n",
        "Enter 5 to see the analysis of Top Selling Product Categories\n",
        "\n",
        "Enter 6 to see the analysis of Reviews for All Product Categories\n",
        "\n",
        "Enter 7 to see the analysis of Number of Orders Per Month Per Year\n",
        "\n",
        "Enter 8 to see the analysis of Reviews for Number of Orders Per Month Per Year\n",
        "\n",
        "Enter 9 to see the analysis of Number of Orders Across Parts of a Day\n",
        "\n",
        "Enter 10 to see the Full Report'''"
      ],
      "metadata": {
        "id": "WoF4trjkxAX3"
      },
      "execution_count": 87,
      "outputs": []
    },
    {
      "cell_type": "code",
      "source": [
        "n = int(input(f'{prob_statement}\\n\\nEnter any number between 1 to 10 : '))\n",
        "## See the Analysis of Reviews given by Customers\n",
        "if n ==1:\n",
        "  enter1()\n",
        "elif n ==2:\n",
        "  enter2()\n",
        "\n",
        "elif n ==3:\n",
        "  enter3()\n",
        "\n",
        "elif n ==4:\n",
        "  enter4\n",
        "\n",
        "elif n ==5:\n",
        "  enter5()\n",
        "\n",
        "elif n == 6:\n",
        "  enter6()\n",
        "\n",
        "elif n == 7:\n",
        "  enter7()\n",
        "\n",
        "elif n ==8:\n",
        "  enter8()\n",
        "\n",
        "elif n ==9:\n",
        "  enter9()\n",
        "\n",
        "elif n == 10:\n",
        "  enter1(), enter2(), enter3(), enter4(), enter5(), enter6(), enter7(), enter8(), enter9()"
      ],
      "metadata": {
        "id": "XWPvpOLEHAL-"
      },
      "execution_count": null,
      "outputs": []
    },
    {
      "cell_type": "code",
      "source": [
        "!pip install pikepdf"
      ],
      "metadata": {
        "id": "_m0cEjJl9j4P"
      },
      "execution_count": null,
      "outputs": []
    },
    {
      "cell_type": "code",
      "source": [
        "from glob import glob\n",
        "\n",
        "from pikepdf import Pdf\n",
        "\n",
        "pdf = Pdf.new()\n",
        "\n",
        "for file in glob('*.pdf'):  # you can change this to browse directories recursively\n",
        "    with Pdf.open(file) as src:\n",
        "        pdf.pages.extend(src.pages)\n",
        "\n",
        "pdf.save('Output.pdf')\n",
        "pdf.close()"
      ],
      "metadata": {
        "id": "qUpgu24d9iQx"
      },
      "execution_count": 91,
      "outputs": []
    }
  ]
}